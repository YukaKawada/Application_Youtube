{
 "cells": [
  {
   "cell_type": "code",
   "execution_count": 1,
   "metadata": {},
   "outputs": [
    {
     "name": "stdout",
     "output_type": "stream",
     "text": [
      "{'video_title': 'なにわ男子 - 初心LOVE（うぶらぶ）[Official Music Video] YouTube ver.', 'video_caption': 'https://i.ytimg.com/vi/e955oEATDBo/hqdefault.jpg', 'description': '初心LOVE（うぶらぶ）<br>一生に一度の初恋のきらめきを描いた120％胸キュン必至ソング<br><br>① ドラマ「消えた初恋」（テレビ朝日系）主題歌<br>② ローソンキャンペーンテーマソング<br>③ ？？？？？？？<br>④ ？？？？？？？<br><br>2021.11.12 (Fri) Release<br>DEBUT SINGLE 「初心LOVE（うぶらぶ）」<br>https://www.j-storm.co.jp/s/js/discography/JACA-5941?ima=0000<br><br><br>〇なにわ男子（Naniwa Danshi） Official Site<br>https://www.j-storm.co.jp/s/js/artist/J0011<br><br>#なにわ男子 #初心LOVE #みんなで初心LOVE #なにわデビュー<br>#なにふぁむ<br><br><br>なにわ男子がYouTube ショートで「#みんなで初心LOVE」キャンペーン...', 'video_link': 'https://youtu.be/e955oEATDBo', 'channel_link': 'https://www.youtube.com/channel/UCDtVdj7sm41Ysg3XSiSUH3w', 'channel_name': 'なにわ男子', 'comment': ['好きな女の子がなにわ男子が好きらしいので見に来ました。自分とまさに対極の方々で悲しいですが、デビュー曲のMVの再生回数が伸びればその子も嬉しいだろうから微力ながら貢献しようと50回くらいリピートしてます。', '歌がどうとかダンスがどうとか色々言う人はいるけど、見てるだけで幸せにしてくれる存在こそアイドルだと思ってる。<br>なにわ男子はまさにアイドルそのもの。<br>ホントにありがとう。', 'ジャニーズ全く知らないのだけどこのグループだけ覚えてしまった、、<br>大橋くんのギャップがなんともいえない破壊力だなと🤚🏻<br>バックの高音とか1人で歌ってる時上手いなあって思ってたら最後は「ま〜た来てな〜」ってため息をついてしまうくらいかわいいなあと思ってしまった🤦🏻\\u200d♀️ <br>これはもう沼', '嵐ファンを15年やって来て、なにわ男子を約2年前くらいに知って1年前からちゃんとファンになった者です。7人のとてつもないパワーに嵐の休止で寂しかった心が癒されました。今となっては完全になにわに虜ですが、本当に毎日を幸せにしてくれてありがとう❣️死ぬまで応援します❣️', 'キンプリ担なんですが、このMV本当に何回も見に来てしまう、、キラキラしてて歌詞も良くて見てて楽しいとかわいいとかっこいいが良い感じに混ざってて好きです！CD買おうかなって思ってます！']}\n"
     ]
    }
   ],
   "source": [
    "import mycode\n",
    "\n",
    "query = \"なにわ男子\"\n",
    "# クエリからvideoidを取得\n",
    "videoid_list = mycode.get_videoid(query=query)\n",
    "\n",
    "# videoid_listをもとにvideo_responseを取得する\n",
    "video_response_list = mycode.get_video_response_list(videoid_list=videoid_list)\n",
    "\n",
    "# videoの情報すべてを入れるdict\n",
    "all_video_info = {}\n",
    "\n",
    "\n",
    "for i in range(len(video_response_list)):\n",
    "    # video情報の辞書\n",
    "    video_info = {}\n",
    "    \n",
    "    # 動画タイトルの取得\n",
    "    video_title = video_response_list[i][\"items\"][0][\"snippet\"][\"title\"]\n",
    "    video_info[\"video_title\"] = video_title\n",
    "    \n",
    "    # 動画サムネイルの取得\n",
    "    # 480×360のサイズにする\n",
    "    video_caption = video_response_list[i][\"items\"][0][\"snippet\"]['thumbnails'][\"high\"][\"url\"]\n",
    "    video_info[\"video_caption\"] = video_caption\n",
    "    \n",
    "    # 概要欄の取得\n",
    "    description = video_response_list[i][\"items\"][0][\"snippet\"]['description']\n",
    "    description = description.replace(\"\\n\", \"<br>\")\n",
    "    description = description.replace(\"\\u3000\", \"\")\n",
    "    description = description.replace(\"\\200b\", \"\")\n",
    "    description = description[:450] + \"...\"\n",
    "    video_info[\"description\"] = description\n",
    "    \n",
    "    # videoidからvideoのURLを作成する\n",
    "    video_link = \"https://youtu.be/\" + video_response_list[i][\"items\"][0][\"id\"]\n",
    "    video_info[\"video_link\"] = video_link\n",
    "    \n",
    "    # チャンネルURLを取得\n",
    "    # チャンネルのURL\n",
    "    channel_link = \"https://www.youtube.com/channel/\" + video_response_list[i][\"items\"][0][\"snippet\"][\"channelId\"]\n",
    "    video_info[\"channel_link\"] = channel_link\n",
    "\n",
    "    # チャンネルのタイトル\n",
    "    channel_name = video_response_list[i][\"items\"][0][\"snippet\"][\"channelTitle\"]\n",
    "    video_info[\"channel_name\"] = channel_name\n",
    "    \n",
    "    # コメントの取得\n",
    "    com_list = mycode.print_video_comment(video_response_list[i][\"items\"][0][\"id\"], None)\n",
    "    video_info[\"comment\"] = com_list\n",
    "    \n",
    "    all_video_info[video_response_list[i][\"items\"][0][\"id\"]] = video_info\n",
    "\n"
   ]
  },
  {
   "cell_type": "code",
   "execution_count": 2,
   "metadata": {},
   "outputs": [
    {
     "data": {
      "text/plain": [
       "{'e955oEATDBo': {'video_title': 'なにわ男子 - 初心LOVE（うぶらぶ）[Official Music Video] YouTube ver.',\n",
       "  'video_caption': 'https://i.ytimg.com/vi/e955oEATDBo/hqdefault.jpg',\n",
       "  'description': '初心LOVE（うぶらぶ）<br>一生に一度の初恋のきらめきを描いた120％胸キュン必至ソング<br><br>① ドラマ「消えた初恋」（テレビ朝日系）主題歌<br>② ローソンキャンペーンテーマソング<br>③ ？？？？？？？<br>④ ？？？？？？？<br><br>2021.11.12 (Fri) Release<br>DEBUT SINGLE 「初心LOVE（うぶらぶ）」<br>https://www.j-storm.co.jp/s/js/discography/JACA-5941?ima=0000<br><br><br>〇なにわ男子（Naniwa Danshi） Official Site<br>https://www.j-storm.co.jp/s/js/artist/J0011<br><br>#なにわ男子 #初心LOVE #みんなで初心LOVE #なにわデビュー<br>#なにふぁむ<br><br><br>なにわ男子がYouTube ショートで「#みんなで初心LOVE」キャンペーン...',\n",
       "  'video_link': 'https://youtu.be/e955oEATDBo',\n",
       "  'channel_link': 'https://www.youtube.com/channel/UCDtVdj7sm41Ysg3XSiSUH3w',\n",
       "  'channel_name': 'なにわ男子',\n",
       "  'comment': ['好きな女の子がなにわ男子が好きらしいので見に来ました。自分とまさに対極の方々で悲しいですが、デビュー曲のMVの再生回数が伸びればその子も嬉しいだろうから微力ながら貢献しようと50回くらいリピートしてます。',\n",
       "   '歌がどうとかダンスがどうとか色々言う人はいるけど、見てるだけで幸せにしてくれる存在こそアイドルだと思ってる。<br>なにわ男子はまさにアイドルそのもの。<br>ホントにありがとう。',\n",
       "   'ジャニーズ全く知らないのだけどこのグループだけ覚えてしまった、、<br>大橋くんのギャップがなんともいえない破壊力だなと🤚🏻<br>バックの高音とか1人で歌ってる時上手いなあって思ってたら最後は「ま〜た来てな〜」ってため息をついてしまうくらいかわいいなあと思ってしまった🤦🏻\\u200d♀️ <br>これはもう沼',\n",
       "   '嵐ファンを15年やって来て、なにわ男子を約2年前くらいに知って1年前からちゃんとファンになった者です。7人のとてつもないパワーに嵐の休止で寂しかった心が癒されました。今となっては完全になにわに虜ですが、本当に毎日を幸せにしてくれてありがとう❣️死ぬまで応援します❣️',\n",
       "   'キンプリ担なんですが、このMV本当に何回も見に来てしまう、、キラキラしてて歌詞も良くて見てて楽しいとかわいいとかっこいいが良い感じに混ざってて好きです！CD買おうかなって思ってます！']}}"
      ]
     },
     "execution_count": 2,
     "metadata": {},
     "output_type": "execute_result"
    }
   ],
   "source": [
    "all_video_info"
   ]
  },
  {
   "cell_type": "code",
   "execution_count": null,
   "metadata": {},
   "outputs": [],
   "source": []
  }
 ],
 "metadata": {
  "interpreter": {
   "hash": "c7e329814d9592be4ccbd1ed29e85952d118de6c8138c816c82a2ee77f037952"
  },
  "kernelspec": {
   "display_name": "Python 3.8.11 64-bit ('flask': conda)",
   "name": "python3"
  },
  "language_info": {
   "codemirror_mode": {
    "name": "ipython",
    "version": 3
   },
   "file_extension": ".py",
   "mimetype": "text/x-python",
   "name": "python",
   "nbconvert_exporter": "python",
   "pygments_lexer": "ipython3",
   "version": "3.8.11"
  },
  "orig_nbformat": 4
 },
 "nbformat": 4,
 "nbformat_minor": 2
}
